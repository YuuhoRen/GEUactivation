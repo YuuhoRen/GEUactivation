{
 "cells": [
  {
   "cell_type": "code",
   "execution_count": 70,
   "id": "008bb6f1-ae70-4e1a-a995-225296a8c068",
   "metadata": {},
   "outputs": [],
   "source": [
    "import pandas as pd\n",
    "import os\n",
    "import torch\n",
    "import time\n",
    "import torchvision\n",
    "import torch.nn as nn\n",
    "import numpy as np\n",
    "import torch.nn.functional as F\n",
    "from torchvision.datasets.utils import download_url\n",
    "from torchvision.datasets import ImageFolder\n",
    "from torch.utils.data import DataLoader\n",
    "import torchvision.transforms as tt\n",
    "from torch.utils.data import random_split\n",
    "from torchvision.utils import make_grid\n",
    "import torchvision.models as models\n",
    "import matplotlib.pyplot as plt\n",
    "from sklearn.metrics import *\n",
    "import math\n",
    "\n",
    "%matplotlib inline"
   ]
  },
  {
   "cell_type": "code",
   "execution_count": 71,
   "id": "8ca75afa-ee86-41e7-99d7-159823c5f61d",
   "metadata": {},
   "outputs": [],
   "source": [
    "batch_size = 400\n",
    "epochs = 120\n",
    "max_lr = 0.001\n",
    "grad_clip = 0.01\n",
    "weight_decay =0.001\n",
    "opt_func = torch.optim.Adam"
   ]
  },
  {
   "cell_type": "code",
   "execution_count": 72,
   "id": "8e953609-9fee-4581-9846-241adca29447",
   "metadata": {},
   "outputs": [
    {
     "name": "stdout",
     "output_type": "stream",
     "text": [
      "Files already downloaded and verified\n"
     ]
    }
   ],
   "source": [
    "train_data = torchvision.datasets.CIFAR100('./', train=True, download=True)\n",
    "\n",
    "# Stick all the images together to form a 1600000 X 32 X 3 array\n",
    "x = np.concatenate([np.asarray(train_data[i][0]) for i in range(len(train_data))])\n",
    "\n",
    "# calculate the mean and std along the (0, 1) axes\n",
    "mean = np.mean(x, axis=(0, 1))/255\n",
    "std = np.std(x, axis=(0, 1))/255\n",
    "# the the mean and std\n",
    "mean=mean.tolist()\n",
    "std=std.tolist()"
   ]
  },
  {
   "cell_type": "code",
   "execution_count": 73,
   "id": "f78af950-af30-4a7d-a2cd-30cd745aeea5",
   "metadata": {},
   "outputs": [],
   "source": [
    "transform_train = tt.Compose([tt.RandomCrop(32, padding=4,padding_mode='reflect'), \n",
    "                         tt.RandomHorizontalFlip(), \n",
    "                         tt.ToTensor(), \n",
    "                         tt.Normalize(mean,std,inplace=True)])\n",
    "transform_test = tt.Compose([tt.ToTensor(), tt.Normalize(mean,std)])"
   ]
  },
  {
   "cell_type": "code",
   "execution_count": 74,
   "id": "213da8c2-519d-40fe-97ee-98e576cd7954",
   "metadata": {},
   "outputs": [
    {
     "name": "stdout",
     "output_type": "stream",
     "text": [
      "Files already downloaded and verified\n",
      "Files already downloaded and verified\n"
     ]
    }
   ],
   "source": [
    "trainset = torchvision.datasets.CIFAR100(\"./\",\n",
    "                                         train=True,\n",
    "                                         download=True,\n",
    "                                         transform=transform_train)\n",
    "trainloader = torch.utils.data.DataLoader(\n",
    "    trainset, batch_size, shuffle=True, num_workers=2,pin_memory=True)\n",
    "\n",
    "testset = torchvision.datasets.CIFAR100(\"./\",\n",
    "                                        train=False,\n",
    "                                        download=True,\n",
    "                                        transform=transform_test)\n",
    "testloader = torch.utils.data.DataLoader(\n",
    "    testset, batch_size*2,pin_memory=True, num_workers=2)"
   ]
  },
  {
   "cell_type": "code",
   "execution_count": 75,
   "id": "64cf4684",
   "metadata": {},
   "outputs": [],
   "source": [
    "class Pgelu(nn.Module): #带参数的gelu激活函数\n",
    "    def __init__(self):\n",
    "        super().__init__()\n",
    "        self.sigma = nn.Parameter(torch.randn(1)) #可学习参数 sigma\n",
    "\n",
    "    def forward(self, input):\n",
    "        \n",
    "        temp2=input/2*(1+torch.erf(input/math.sqrt(2)/self.sigma))\n",
    "        return temp2"
   ]
  },
  {
   "cell_type": "code",
   "execution_count": 76,
   "id": "ed29e4e7-bc51-4dfd-a57f-2e697fee8235",
   "metadata": {},
   "outputs": [],
   "source": [
    "def get_default_device():\n",
    "    \"\"\"Pick GPU if available, else CPU\"\"\"\n",
    "    if torch.cuda.is_available():\n",
    "        return torch.device('cuda')\n",
    "    else:\n",
    "        return torch.device('cpu')\n",
    "    \n",
    "def to_device(data, device):\n",
    "    \"\"\"Move tensor(s) to chosen device\"\"\"\n",
    "    if isinstance(data, (list,tuple)):\n",
    "        return [to_device(x, device) for x in data]\n",
    "    return data.to(device, non_blocking=True)\n",
    "\n",
    "class DeviceDataLoader():\n",
    "    \"\"\"Wrap a dataloader to move data to a device\"\"\"\n",
    "    def __init__(self, dl, device):\n",
    "        self.dl = dl\n",
    "        self.device = device\n",
    "        \n",
    "    def __iter__(self):\n",
    "        \"\"\"Yield a batch of data after moving it to device\"\"\"\n",
    "        for b in self.dl: \n",
    "            yield to_device(b, self.device)\n",
    "\n",
    "    def __len__(self):\n",
    "        \"\"\"Number of batches\"\"\"\n",
    "        return len(self.dl)"
   ]
  },
  {
   "cell_type": "code",
   "execution_count": 77,
   "id": "d438e2cb-6d4f-4137-b435-cbed1fa6a01a",
   "metadata": {},
   "outputs": [
    {
     "data": {
      "text/plain": [
       "device(type='cuda')"
      ]
     },
     "execution_count": 77,
     "metadata": {},
     "output_type": "execute_result"
    }
   ],
   "source": [
    "device = get_default_device()\n",
    "device"
   ]
  },
  {
   "cell_type": "code",
   "execution_count": 78,
   "id": "0d577692-2a83-490a-b40e-7fbbcab53f30",
   "metadata": {},
   "outputs": [],
   "source": [
    "trainloader = DeviceDataLoader(trainloader, device)\n",
    "testloader = DeviceDataLoader(testloader, device)"
   ]
  },
  {
   "cell_type": "code",
   "execution_count": 79,
   "id": "55dfd24b-a4ee-4011-b872-7e37896504a6",
   "metadata": {},
   "outputs": [
    {
     "data": {
      "text/plain": [
       "ResNet9(\n",
       "  (conv1): Sequential(\n",
       "    (0): Conv2d(3, 64, kernel_size=(3, 3), stride=(1, 1), padding=(1, 1))\n",
       "    (1): BatchNorm2d(64, eps=1e-05, momentum=0.1, affine=True, track_running_stats=True)\n",
       "    (2): Pgelu()\n",
       "  )\n",
       "  (conv2): Sequential(\n",
       "    (0): Conv2d(64, 128, kernel_size=(3, 3), stride=(1, 1), padding=(1, 1))\n",
       "    (1): BatchNorm2d(128, eps=1e-05, momentum=0.1, affine=True, track_running_stats=True)\n",
       "    (2): Pgelu()\n",
       "    (3): MaxPool2d(kernel_size=2, stride=2, padding=0, dilation=1, ceil_mode=False)\n",
       "  )\n",
       "  (res1): Sequential(\n",
       "    (0): Sequential(\n",
       "      (0): Conv2d(128, 128, kernel_size=(3, 3), stride=(1, 1), padding=(1, 1))\n",
       "      (1): BatchNorm2d(128, eps=1e-05, momentum=0.1, affine=True, track_running_stats=True)\n",
       "      (2): Pgelu()\n",
       "    )\n",
       "    (1): Sequential(\n",
       "      (0): Conv2d(128, 128, kernel_size=(3, 3), stride=(1, 1), padding=(1, 1))\n",
       "      (1): BatchNorm2d(128, eps=1e-05, momentum=0.1, affine=True, track_running_stats=True)\n",
       "      (2): Pgelu()\n",
       "    )\n",
       "  )\n",
       "  (conv3): Sequential(\n",
       "    (0): Conv2d(128, 256, kernel_size=(3, 3), stride=(1, 1), padding=(1, 1))\n",
       "    (1): BatchNorm2d(256, eps=1e-05, momentum=0.1, affine=True, track_running_stats=True)\n",
       "    (2): Pgelu()\n",
       "    (3): MaxPool2d(kernel_size=2, stride=2, padding=0, dilation=1, ceil_mode=False)\n",
       "  )\n",
       "  (conv4): Sequential(\n",
       "    (0): Conv2d(256, 512, kernel_size=(3, 3), stride=(1, 1), padding=(1, 1))\n",
       "    (1): BatchNorm2d(512, eps=1e-05, momentum=0.1, affine=True, track_running_stats=True)\n",
       "    (2): Pgelu()\n",
       "    (3): MaxPool2d(kernel_size=2, stride=2, padding=0, dilation=1, ceil_mode=False)\n",
       "  )\n",
       "  (res2): Sequential(\n",
       "    (0): Sequential(\n",
       "      (0): Conv2d(512, 512, kernel_size=(3, 3), stride=(1, 1), padding=(1, 1))\n",
       "      (1): BatchNorm2d(512, eps=1e-05, momentum=0.1, affine=True, track_running_stats=True)\n",
       "      (2): Pgelu()\n",
       "    )\n",
       "    (1): Sequential(\n",
       "      (0): Conv2d(512, 512, kernel_size=(3, 3), stride=(1, 1), padding=(1, 1))\n",
       "      (1): BatchNorm2d(512, eps=1e-05, momentum=0.1, affine=True, track_running_stats=True)\n",
       "      (2): Pgelu()\n",
       "    )\n",
       "  )\n",
       "  (conv5): Sequential(\n",
       "    (0): Conv2d(512, 1028, kernel_size=(3, 3), stride=(1, 1), padding=(1, 1))\n",
       "    (1): BatchNorm2d(1028, eps=1e-05, momentum=0.1, affine=True, track_running_stats=True)\n",
       "    (2): Pgelu()\n",
       "    (3): MaxPool2d(kernel_size=2, stride=2, padding=0, dilation=1, ceil_mode=False)\n",
       "  )\n",
       "  (res3): Sequential(\n",
       "    (0): Sequential(\n",
       "      (0): Conv2d(1028, 1028, kernel_size=(3, 3), stride=(1, 1), padding=(1, 1))\n",
       "      (1): BatchNorm2d(1028, eps=1e-05, momentum=0.1, affine=True, track_running_stats=True)\n",
       "      (2): Pgelu()\n",
       "    )\n",
       "    (1): Sequential(\n",
       "      (0): Conv2d(1028, 1028, kernel_size=(3, 3), stride=(1, 1), padding=(1, 1))\n",
       "      (1): BatchNorm2d(1028, eps=1e-05, momentum=0.1, affine=True, track_running_stats=True)\n",
       "      (2): Pgelu()\n",
       "    )\n",
       "  )\n",
       "  (classifier): Sequential(\n",
       "    (0): MaxPool2d(kernel_size=2, stride=2, padding=0, dilation=1, ceil_mode=False)\n",
       "    (1): Flatten(start_dim=1, end_dim=-1)\n",
       "    (2): Linear(in_features=1028, out_features=100, bias=True)\n",
       "  )\n",
       ")"
      ]
     },
     "execution_count": 79,
     "metadata": {},
     "output_type": "execute_result"
    }
   ],
   "source": [
    "def accuracy(outputs, labels):\n",
    "    _, preds = torch.max(outputs, dim=1)\n",
    "    return torch.tensor(torch.sum(preds == labels).item() / len(preds))\n",
    "\n",
    "class ImageClassificationBase(nn.Module):\n",
    "    def training_step(self, batch):\n",
    "        images, labels = batch \n",
    "        out = self(images)                  # Generate predictions\n",
    "        loss = F.cross_entropy(out, labels) # Calculate loss\n",
    "        return loss\n",
    "    \n",
    "    def validation_step(self, batch):\n",
    "        images, labels = batch \n",
    "        out = self(images)                    # Generate predictions\n",
    "        loss = F.cross_entropy(out, labels)   # Calculate loss\n",
    "        acc = accuracy(out, labels)           # Calculate accuracy\n",
    "        return {'val_loss': loss.detach(), 'val_acc': acc}\n",
    "        \n",
    "    def validation_epoch_end(self, outputs):\n",
    "        batch_losses = [x['val_loss'] for x in outputs]\n",
    "        epoch_loss = torch.stack(batch_losses).mean()   # Combine losses\n",
    "        batch_accs = [x['val_acc'] for x in outputs]\n",
    "        epoch_acc = torch.stack(batch_accs).mean()      # Combine accuracies\n",
    "        return {'val_loss': epoch_loss.item(), 'val_acc': epoch_acc.item()}\n",
    "    \n",
    "    def epoch_end(self, epoch, result):\n",
    "        print(\"Epoch [{}], last_lr: {:.5f}, train_loss: {:.4f}, val_loss: {:.4f}, val_acc: {:.4f}\".format(\n",
    "            epoch, result['lrs'][-1], result['train_loss'], result['val_loss'], result['val_acc']))\n",
    "        \n",
    "def conv_block(in_channels, out_channels, pool=False):\n",
    "    layers = [nn.Conv2d(in_channels, out_channels, kernel_size=3, padding=1), \n",
    "              nn.BatchNorm2d(out_channels), \n",
    "              Pgelu()]\n",
    "    if pool: layers.append(nn.MaxPool2d(2))\n",
    "    return nn.Sequential(*layers)\n",
    "\n",
    "class ResNet9(ImageClassificationBase):\n",
    "    def __init__(self, in_channels, num_classes):\n",
    "        super().__init__()\n",
    "        \n",
    "        self.conv1 = conv_block(in_channels, 64)\n",
    "        self.conv2 = conv_block(64, 128, pool=True) \n",
    "        self.res1 = nn.Sequential(conv_block(128, 128), conv_block(128, 128)) \n",
    "        \n",
    "        self.conv3 = conv_block(128, 256, pool=True)\n",
    "        self.conv4 = conv_block(256, 512, pool=True) \n",
    "        self.res2 = nn.Sequential(conv_block(512, 512), conv_block(512, 512)) \n",
    "        self.conv5 = conv_block(512, 1028, pool=True) \n",
    "        self.res3 = nn.Sequential(conv_block(1028, 1028), conv_block(1028, 1028))  \n",
    "        \n",
    "        self.classifier = nn.Sequential(nn.MaxPool2d(2), # 1028 x 1 x 1\n",
    "                                        nn.Flatten(), # 1028 \n",
    "                                        nn.Linear(1028, num_classes)) # 1028 -> 100\n",
    "        \n",
    "    def forward(self, xb):\n",
    "        out = self.conv1(xb)\n",
    "        out = self.conv2(out)\n",
    "        out = self.res1(out) + out\n",
    "        out = self.conv3(out)\n",
    "        out = self.conv4(out)\n",
    "        out = self.res2(out) + out\n",
    "        out = self.conv5(out)\n",
    "        out = self.res3(out) + out\n",
    "        out = self.classifier(out)\n",
    "        return out\n",
    "\n",
    "model = to_device(ResNet9(3, 100), device)\n",
    "model"
   ]
  },
  {
   "cell_type": "code",
   "execution_count": 80,
   "id": "b5b7a7ca",
   "metadata": {},
   "outputs": [
    {
     "data": {
      "text/plain": [
       "Parameter containing:\n",
       "tensor([2.5000], device='cuda:0', requires_grad=True)"
      ]
     },
     "execution_count": 80,
     "metadata": {},
     "output_type": "execute_result"
    }
   ],
   "source": [
    "initNumber = 2.5\n",
    "\n",
    "zc01=model.conv1[2].sigma\n",
    "nn.init.constant_(zc01,initNumber)\n",
    "zc02=model.conv2[2].sigma\n",
    "nn.init.constant_(zc02,initNumber)\n",
    "\n",
    "zr01=model.res1[0][2].sigma\n",
    "nn.init.constant_(zr01,initNumber)\n",
    "zr02=model.res1[1][2].sigma\n",
    "nn.init.constant_(zr02,initNumber)\n",
    "\n",
    "zc03=model.conv3[2].sigma\n",
    "nn.init.constant_(zc03,initNumber)\n",
    "zc04=model.conv4[2].sigma\n",
    "nn.init.constant_(zc04,initNumber)\n",
    "\n",
    "zr03=model.res2[0][2].sigma\n",
    "nn.init.constant_(zr03,initNumber)\n",
    "zr04=model.res2[1][2].sigma\n",
    "nn.init.constant_(zr04,initNumber)\n",
    "\n",
    "zc05=model.conv5[2].sigma\n",
    "nn.init.constant_(zc05,initNumber)\n",
    "\n",
    "zr05=model.res3[0][2].sigma\n",
    "nn.init.constant_(zr05,initNumber)\n",
    "zr06=model.res3[1][2].sigma\n",
    "nn.init.constant_(zr06,initNumber)"
   ]
  },
  {
   "cell_type": "code",
   "execution_count": 81,
   "id": "d2922824-d9c8-4902-828d-b06d785d712d",
   "metadata": {},
   "outputs": [],
   "source": [
    "@torch.no_grad()\n",
    "def evaluate(model, test_loader):\n",
    "    model.eval()\n",
    "    outputs = [model.validation_step(batch) for batch in test_loader]\n",
    "    return model.validation_epoch_end(outputs)\n",
    "\n",
    "def get_lr(optimizer):\n",
    "    for param_group in optimizer.param_groups:\n",
    "        return param_group['lr']\n",
    "\n",
    "def fit_one_cycle(epochs, max_lr, model, train_loader, test_loader, \n",
    "                  weight_decay=0, grad_clip=None, opt_func=torch.optim.SGD):\n",
    "    torch.cuda.empty_cache()\n",
    "    history = []\n",
    "    \n",
    "    # Set up cutom optimizer with weight decay\n",
    "    optimizer = opt_func(model.parameters(), max_lr, weight_decay=weight_decay)\n",
    "    # Set up one-cycle learning rate scheduler\n",
    "    sched = torch.optim.lr_scheduler.OneCycleLR(optimizer, max_lr, epochs=epochs, \n",
    "                                                steps_per_epoch=len(train_loader))\n",
    "    \n",
    "    for epoch in range(epochs):\n",
    "        # Training Phase \n",
    "        model.train()\n",
    "        train_losses = []\n",
    "        lrs = []\n",
    "        for batch in train_loader:\n",
    "            loss = model.training_step(batch)\n",
    "            train_losses.append(loss)\n",
    "            loss.backward()\n",
    "            \n",
    "            # Gradient clipping\n",
    "            if grad_clip: \n",
    "                nn.utils.clip_grad_value_(model.parameters(), grad_clip)\n",
    "            \n",
    "            optimizer.step()\n",
    "            optimizer.zero_grad()\n",
    "            \n",
    "            # Record & update learning rate\n",
    "            lrs.append(get_lr(optimizer))\n",
    "            sched.step()\n",
    "        \n",
    "        # Validation phase\n",
    "        result = evaluate(model, test_loader)\n",
    "        result['train_loss'] = torch.stack(train_losses).mean().item()\n",
    "        result['lrs'] = lrs\n",
    "        model.epoch_end(epoch, result)\n",
    "        history.append(result)\n",
    "    return history"
   ]
  },
  {
   "cell_type": "code",
   "execution_count": 82,
   "id": "349dd1af-1fa5-443e-ab87-cfa20691d481",
   "metadata": {},
   "outputs": [
    {
     "data": {
      "text/plain": [
       "[{'val_loss': 4.605345249176025, 'val_acc': 0.010384614579379559}]"
      ]
     },
     "execution_count": 82,
     "metadata": {},
     "output_type": "execute_result"
    }
   ],
   "source": [
    "history = [evaluate(model, testloader)]\n",
    "history"
   ]
  },
  {
   "cell_type": "code",
   "execution_count": 83,
   "id": "f0cbea96-3982-40eb-afb9-f4f9eee6643b",
   "metadata": {},
   "outputs": [
    {
     "name": "stdout",
     "output_type": "stream",
     "text": [
      "Epoch [0], last_lr: 0.00007, train_loss: 3.6143, val_loss: 2.9464, val_acc: 0.2747\n",
      "Epoch [1], last_lr: 0.00015, train_loss: 2.7354, val_loss: 2.5187, val_acc: 0.3525\n",
      "Epoch [2], last_lr: 0.00028, train_loss: 2.3574, val_loss: 2.2550, val_acc: 0.4117\n",
      "Epoch [3], last_lr: 0.00044, train_loss: 2.1082, val_loss: 2.1913, val_acc: 0.4353\n",
      "Epoch [4], last_lr: 0.00060, train_loss: 1.9425, val_loss: 2.0644, val_acc: 0.4478\n",
      "Epoch [5], last_lr: 0.00076, train_loss: 1.7873, val_loss: 2.1048, val_acc: 0.4513\n",
      "Epoch [6], last_lr: 0.00089, train_loss: 1.6642, val_loss: 1.9125, val_acc: 0.4995\n",
      "Epoch [7], last_lr: 0.00097, train_loss: 1.5560, val_loss: 1.7755, val_acc: 0.5150\n",
      "Epoch [8], last_lr: 0.00100, train_loss: 1.4344, val_loss: 1.6872, val_acc: 0.5405\n",
      "Epoch [9], last_lr: 0.00099, train_loss: 1.3313, val_loss: 1.7579, val_acc: 0.5349\n",
      "Epoch [10], last_lr: 0.00098, train_loss: 1.2561, val_loss: 1.5602, val_acc: 0.5670\n",
      "Epoch [11], last_lr: 0.00095, train_loss: 1.1705, val_loss: 1.5371, val_acc: 0.5804\n",
      "Epoch [12], last_lr: 0.00091, train_loss: 1.1091, val_loss: 1.5233, val_acc: 0.5886\n",
      "Epoch [13], last_lr: 0.00087, train_loss: 1.0372, val_loss: 1.3512, val_acc: 0.6268\n",
      "Epoch [14], last_lr: 0.00081, train_loss: 0.9629, val_loss: 1.3508, val_acc: 0.6235\n",
      "Epoch [15], last_lr: 0.00075, train_loss: 0.9076, val_loss: 1.2656, val_acc: 0.6416\n",
      "Epoch [16], last_lr: 0.00068, train_loss: 0.8211, val_loss: 1.2498, val_acc: 0.6484\n",
      "Epoch [17], last_lr: 0.00061, train_loss: 0.7485, val_loss: 1.2511, val_acc: 0.6488\n",
      "Epoch [18], last_lr: 0.00054, train_loss: 0.6730, val_loss: 1.1389, val_acc: 0.6741\n",
      "Epoch [19], last_lr: 0.00046, train_loss: 0.5941, val_loss: 1.1712, val_acc: 0.6748\n",
      "Epoch [20], last_lr: 0.00039, train_loss: 0.5098, val_loss: 1.1093, val_acc: 0.6906\n",
      "Epoch [21], last_lr: 0.00032, train_loss: 0.4228, val_loss: 1.0585, val_acc: 0.7037\n",
      "Epoch [22], last_lr: 0.00025, train_loss: 0.3373, val_loss: 1.0123, val_acc: 0.7163\n",
      "Epoch [23], last_lr: 0.00019, train_loss: 0.2585, val_loss: 0.9762, val_acc: 0.7263\n",
      "Epoch [24], last_lr: 0.00013, train_loss: 0.1906, val_loss: 0.9538, val_acc: 0.7389\n",
      "Epoch [25], last_lr: 0.00009, train_loss: 0.1373, val_loss: 0.9303, val_acc: 0.7451\n",
      "Epoch [26], last_lr: 0.00005, train_loss: 0.1018, val_loss: 0.9172, val_acc: 0.7516\n",
      "Epoch [27], last_lr: 0.00002, train_loss: 0.0760, val_loss: 0.9088, val_acc: 0.7562\n",
      "Epoch [28], last_lr: 0.00001, train_loss: 0.0650, val_loss: 0.9062, val_acc: 0.7586\n",
      "Epoch [29], last_lr: 0.00000, train_loss: 0.0606, val_loss: 0.9072, val_acc: 0.7585\n"
     ]
    }
   ],
   "source": [
    "current_time=time.time()\n",
    "history += fit_one_cycle(int(epochs/4), max_lr, model, trainloader, testloader, \n",
    "                             grad_clip=grad_clip, \n",
    "                             weight_decay=weight_decay, \n",
    "                             opt_func=opt_func)"
   ]
  },
  {
   "cell_type": "code",
   "execution_count": 84,
   "id": "7850e514-ffb5-46c3-b1a9-f03a955b60f9",
   "metadata": {},
   "outputs": [
    {
     "name": "stdout",
     "output_type": "stream",
     "text": [
      "Training time: 19.09 s\n"
     ]
    }
   ],
   "source": [
    "current_time = time.time()\n",
    "result = evaluate(model, testloader)\n",
    "result\n",
    "print('Training time: {:.2f} s'.format(time.time() - current_time))"
   ]
  },
  {
   "cell_type": "code",
   "execution_count": 85,
   "id": "bf11f71a-9f1c-49f7-a208-a3483d5b4263",
   "metadata": {},
   "outputs": [
    {
     "name": "stdout",
     "output_type": "stream",
     "text": [
      "{'val_loss': 0.9072352647781372, 'val_acc': 0.7584615349769592}\n"
     ]
    }
   ],
   "source": [
    "print(result)\n",
    "\n",
    "# Saving the model to h5 file\n",
    "torch.save(model.state_dict(), 'group23_pretrained_model.h5')"
   ]
  },
  {
   "cell_type": "code",
   "execution_count": 86,
   "id": "41d48917-0185-4f78-87bc-74569650961f",
   "metadata": {},
   "outputs": [
    {
     "name": "stdout",
     "output_type": "stream",
     "text": [
      "Confusion matrix:\n",
      "[[85  0  1 ...  0  0  0]\n",
      " [ 0 89  0 ...  0  0  0]\n",
      " [ 0  0 62 ...  0  3  0]\n",
      " ...\n",
      " [ 0  0  0 ... 82  0  0]\n",
      " [ 0  1  4 ...  0 65  0]\n",
      " [ 0  0  0 ...  0  0 73]]\n",
      "              precision    recall  f1-score   support\n",
      "\n",
      "           0       0.91      0.85      0.88       100\n",
      "           1       0.86      0.89      0.88       100\n",
      "           2       0.66      0.62      0.64       100\n",
      "           3       0.72      0.63      0.67       100\n",
      "           4       0.61      0.63      0.62       100\n",
      "           5       0.80      0.73      0.76       100\n",
      "           6       0.76      0.81      0.79       100\n",
      "           7       0.81      0.79      0.80       100\n",
      "           8       0.90      0.87      0.88       100\n",
      "           9       0.85      0.79      0.82       100\n",
      "          10       0.67      0.69      0.68       100\n",
      "          11       0.54      0.60      0.57       100\n",
      "          12       0.82      0.85      0.83       100\n",
      "          13       0.68      0.67      0.67       100\n",
      "          14       0.72      0.70      0.71       100\n",
      "          15       0.77      0.82      0.80       100\n",
      "          16       0.83      0.79      0.81       100\n",
      "          17       0.92      0.85      0.89       100\n",
      "          18       0.71      0.66      0.68       100\n",
      "          19       0.78      0.69      0.73       100\n",
      "          20       0.87      0.83      0.85       100\n",
      "          21       0.86      0.91      0.88       100\n",
      "          22       0.79      0.77      0.78       100\n",
      "          23       0.85      0.81      0.83       100\n",
      "          24       0.91      0.86      0.88       100\n",
      "          25       0.66      0.73      0.69       100\n",
      "          26       0.79      0.74      0.76       100\n",
      "          27       0.64      0.60      0.62       100\n",
      "          28       0.88      0.84      0.86       100\n",
      "          29       0.83      0.73      0.78       100\n",
      "          30       0.76      0.66      0.71       100\n",
      "          31       0.79      0.72      0.75       100\n",
      "          32       0.66      0.64      0.65       100\n",
      "          33       0.73      0.72      0.72       100\n",
      "          34       0.81      0.79      0.80       100\n",
      "          35       0.53      0.55      0.54       100\n",
      "          36       0.83      0.82      0.82       100\n",
      "          37       0.81      0.81      0.81       100\n",
      "          38       0.69      0.70      0.69       100\n",
      "          39       0.89      0.91      0.90       100\n",
      "          40       0.70      0.74      0.72       100\n",
      "          41       0.94      0.83      0.88       100\n",
      "          42       0.75      0.76      0.75       100\n",
      "          43       0.88      0.87      0.87       100\n",
      "          44       0.54      0.57      0.56       100\n",
      "          45       0.62      0.70      0.66       100\n",
      "          46       0.57      0.55      0.56       100\n",
      "          47       0.66      0.69      0.67       100\n",
      "          48       0.86      0.92      0.89       100\n",
      "          49       0.84      0.87      0.85       100\n",
      "          50       0.57      0.65      0.61       100\n",
      "          51       0.82      0.82      0.82       100\n",
      "          52       0.64      0.66      0.65       100\n",
      "          53       0.91      0.92      0.92       100\n",
      "          54       0.80      0.91      0.85       100\n",
      "          55       0.48      0.53      0.50       100\n",
      "          56       0.95      0.90      0.92       100\n",
      "          57       0.80      0.81      0.81       100\n",
      "          58       0.87      0.82      0.85       100\n",
      "          59       0.73      0.74      0.74       100\n",
      "          60       0.90      0.87      0.88       100\n",
      "          61       0.74      0.67      0.71       100\n",
      "          62       0.69      0.81      0.74       100\n",
      "          63       0.76      0.74      0.75       100\n",
      "          64       0.72      0.54      0.62       100\n",
      "          65       0.64      0.65      0.64       100\n",
      "          66       0.82      0.82      0.82       100\n",
      "          67       0.65      0.66      0.65       100\n",
      "          68       0.90      0.95      0.92       100\n",
      "          69       0.84      0.81      0.82       100\n",
      "          70       0.78      0.74      0.76       100\n",
      "          71       0.79      0.88      0.83       100\n",
      "          72       0.51      0.56      0.53       100\n",
      "          73       0.60      0.65      0.62       100\n",
      "          74       0.56      0.60      0.58       100\n",
      "          75       0.85      0.89      0.87       100\n",
      "          76       0.91      0.91      0.91       100\n",
      "          77       0.77      0.73      0.75       100\n",
      "          78       0.59      0.61      0.60       100\n",
      "          79       0.73      0.84      0.78       100\n",
      "          80       0.62      0.63      0.63       100\n",
      "          81       0.76      0.74      0.75       100\n",
      "          82       0.90      0.90      0.90       100\n",
      "          83       0.74      0.80      0.77       100\n",
      "          84       0.76      0.71      0.74       100\n",
      "          85       0.84      0.87      0.86       100\n",
      "          86       0.78      0.73      0.76       100\n",
      "          87       0.80      0.86      0.83       100\n",
      "          88       0.85      0.79      0.82       100\n",
      "          89       0.79      0.87      0.83       100\n",
      "          90       0.77      0.86      0.81       100\n",
      "          91       0.85      0.83      0.84       100\n",
      "          92       0.71      0.65      0.68       100\n",
      "          93       0.64      0.68      0.66       100\n",
      "          94       0.92      0.94      0.93       100\n",
      "          95       0.74      0.73      0.74       100\n",
      "          96       0.68      0.61      0.64       100\n",
      "          97       0.83      0.82      0.82       100\n",
      "          98       0.65      0.65      0.65       100\n",
      "          99       0.74      0.73      0.73       100\n",
      "\n",
      "    accuracy                           0.76     10000\n",
      "   macro avg       0.76      0.76      0.76     10000\n",
      "weighted avg       0.76      0.76      0.76     10000\n",
      "\n",
      "F1 score: 0.756942\n",
      "Recall score: 0.756600\n",
      "Accuracy score: 0.756600\n"
     ]
    }
   ],
   "source": [
    "# Generate testing accuracy, predicted label, confusion matrix, and table for classification report\n",
    "def test_label_predictions(model, device, test_loader):\n",
    "    model.eval()\n",
    "    actuals = []\n",
    "    predictions = []\n",
    "    with torch.no_grad():\n",
    "        for data, target in test_loader:\n",
    "            data, target = data.to(device), target.to(device)\n",
    "            output = model(data)\n",
    "            prediction = output.argmax(dim=1, keepdim=True)\n",
    "            actuals.extend(target.view_as(prediction))\n",
    "            predictions.extend(prediction)\n",
    "    return [i.item() for i in actuals], [i.item() for i in predictions]\n",
    "\n",
    "y_test, y_pred = test_label_predictions(model, device, testloader)\n",
    "cm=confusion_matrix(y_test, y_pred)\n",
    "cr=classification_report(y_test, y_pred)\n",
    "fs=f1_score(y_test,y_pred,average='weighted')\n",
    "rs=recall_score(y_test, y_pred,average='weighted')\n",
    "accuracy=accuracy_score(y_test, y_pred)\n",
    "print('Confusion matrix:')\n",
    "print(cm)\n",
    "print(cr)\n",
    "print('F1 score: %f' % fs)\n",
    "print('Recall score: %f' % rs)\n",
    "print('Accuracy score: %f' % accuracy)"
   ]
  },
  {
   "cell_type": "code",
   "execution_count": 87,
   "id": "c47f36fa-13cf-45af-88ba-4d0190138d67",
   "metadata": {},
   "outputs": [],
   "source": [
    "# Save classificationreport into csv\n",
    "report = classification_report(y_test, y_pred, output_dict = True)\n",
    "df=pd.DataFrame(report).transpose()\n",
    "df.to_csv('classificationreport23.csv',index=False)"
   ]
  },
  {
   "cell_type": "code",
   "execution_count": 88,
   "id": "a7b9a6f3-8d77-4dcd-b46a-63a6836c65fc",
   "metadata": {},
   "outputs": [],
   "source": [
    "# Plot classification report and save to pdf function\n",
    "def plot_classification(precision, recall, f1_score):\n",
    "    plt.rcParams['font.size'] = 12\n",
    "    plt.rc('axes', linewidth=1.75)\n",
    "    marker_size = 8\n",
    "    figsize = 6\n",
    "    plt.figure(figsize=(1.4 * figsize, figsize))\n",
    "    plt.subplot(3, 1, 1)\n",
    "    plt.plot(precision, 'o', markersize=marker_size)\n",
    "    # plt.legend(loc=0)\n",
    "    # plt.yticks(np.arange(0.5, 1.01, 0.1))\n",
    "    plt.ylabel('Precision', fontsize=14)\n",
    "    plt.xticks([])\n",
    "    plt.subplot(3, 1, 2)\n",
    "    plt.plot(recall, 'o', markersize=marker_size)\n",
    "    # plt.yticks(np.arange(0.5, 1.01, 0.1))\n",
    "    plt.ylabel('Recall', fontsize=14)\n",
    "    plt.xticks([])\n",
    "    plt.subplot(3, 1, 3)\n",
    "    plt.plot(f1_score, 'o', markersize=marker_size)\n",
    "    # plt.yticks(np.arange(0.5, 1.01, 0.1))\n",
    "    plt.ylabel('F1-score', fontsize=14)\n",
    "    plt.xlabel('Class', fontsize=14)\n",
    "    plt.subplots_adjust(hspace=0.001)\n",
    "    plt.tight_layout()\n",
    "    plt.savefig(\"classification23.pdf\")"
   ]
  },
  {
   "cell_type": "code",
   "execution_count": 89,
   "id": "edb428f1-ddb3-4192-a14e-72505b451654",
   "metadata": {},
   "outputs": [],
   "source": [
    "# Plot classification report and save to pdf\n",
    "def plot_confusion_matrix(cm):\n",
    "    plt.figure()\n",
    "    plt.imshow(cm, interpolation='nearest', cmap=plt.get_cmap('Blues'))\n",
    "    plt.colorbar()\n",
    "    plt.ylabel('True label', fontsize=14)\n",
    "    plt.xlabel('Predicted label', fontsize=14)\n",
    "    plt.tight_layout()\n",
    "    plt.savefig(\"confusion_matrix23.pdf\")\n",
    "    plt.show()"
   ]
  },
  {
   "cell_type": "code",
   "execution_count": 95,
   "id": "e49e05f3-b599-4051-9107-450c1d6d1b18",
   "metadata": {},
   "outputs": [
    {
     "name": "stdout",
     "output_type": "stream",
     "text": [
      "Train accuracy: 0.992360\n"
     ]
    }
   ],
   "source": [
    "# Obtain training accuracy\n",
    "y_train, y_pred2 = test_label_predictions(model, device, trainloader)\n",
    "train_accuracy=accuracy_score(y_train, y_pred2)\n",
    "print('Train accuracy: %f' % train_accuracy)"
   ]
  },
  {
   "cell_type": "code",
   "execution_count": null,
   "id": "1f443e31-6bd2-4454-959e-055ab164438d",
   "metadata": {},
   "outputs": [],
   "source": []
  },
  {
   "cell_type": "code",
   "execution_count": null,
   "id": "73549632-76cb-4289-9eff-659bc86f6830",
   "metadata": {},
   "outputs": [],
   "source": [
    "# Plot and save confusion matrix\n",
    "precision, recall, f1,_= precision_recall_fscore_support(y_test, y_pred)\n",
    "print(recall)\n",
    "plot_classification(precision, recall, f1)\n",
    "\n",
    "# Plot confusion matrix\n",
    "plot_confusion_matrix(cm)"
   ]
  },
  {
   "cell_type": "code",
   "execution_count": 92,
   "id": "d30176ed-f926-488b-93d1-6d71e6ed9e22",
   "metadata": {},
   "outputs": [],
   "source": [
    "# Plotted the accuracy Graph\n",
    "def plot_accuracies(history):\n",
    "    accuracies = [x['val_acc'] for x in history]\n",
    "    plt.plot(accuracies, '-x')\n",
    "    plt.xlabel('epoch')\n",
    "    plt.ylabel('accuracy')\n",
    "    plt.title('Accuracy vs. No. of epochs');"
   ]
  },
  {
   "cell_type": "code",
   "execution_count": 93,
   "id": "bb151d5d-9d58-442f-a085-56d1f5e64eeb",
   "metadata": {},
   "outputs": [
    {
     "data": {
      "image/png": "[encoded data removed]",
      "text/plain": [
       "<Figure size 640x480 with 1 Axes>"
      ]
     },
     "metadata": {},
     "output_type": "display_data"
    }
   ],
   "source": [
    "plot_accuracies(history)"
   ]
  },
  {
   "cell_type": "code",
   "execution_count": 94,
   "id": "604b6342-3159-4b36-b93f-fb2329bf405f",
   "metadata": {},
   "outputs": [
    {
     "name": "stdout",
     "output_type": "stream",
     "text": [
      "Parameter containing:\n",
      "tensor([1.5066], device='cuda:0', requires_grad=True)\n",
      "Parameter containing:\n",
      "tensor([1.1294], device='cuda:0', requires_grad=True)\n",
      "Parameter containing:\n",
      "tensor([0.9396], device='cuda:0', requires_grad=True)\n",
      "Parameter containing:\n",
      "tensor([1.0432], device='cuda:0', requires_grad=True)\n",
      "Parameter containing:\n",
      "tensor([0.7387], device='cuda:0', requires_grad=True)\n",
      "Parameter containing:\n",
      "tensor([0.5313], device='cuda:0', requires_grad=True)\n",
      "Parameter containing:\n",
      "tensor([0.4917], device='cuda:0', requires_grad=True)\n",
      "Parameter containing:\n",
      "tensor([0.3320], device='cuda:0', requires_grad=True)\n",
      "Parameter containing:\n",
      "tensor([0.7903], device='cuda:0', requires_grad=True)\n",
      "Parameter containing:\n",
      "tensor([0.5608], device='cuda:0', requires_grad=True)\n",
      "Parameter containing:\n",
      "tensor([1.2081], device='cuda:0', requires_grad=True)\n"
     ]
    }
   ],
   "source": [
    "\n",
    "print(model.conv1[2].sigma)\n",
    "print(model.conv2[2].sigma)\n",
    "\n",
    "print(model.res1[0][2].sigma)\n",
    "print(model.res1[1][2].sigma)\n",
    "\n",
    "print(model.conv3[2].sigma)\n",
    "print(model.conv4[2].sigma)\n",
    "\n",
    "print(model.res2[0][2].sigma)\n",
    "print(model.res2[1][2].sigma)\n",
    "\n",
    "print(model.conv5[2].sigma)\n",
    "\n",
    "print(model.res3[0][2].sigma)\n",
    "print(model.res3[1][2].sigma)"
   ]
  },
  {
   "cell_type": "code",
   "execution_count": null,
   "id": "485f64e5-7861-4b18-a32a-cb319d8953ea",
   "metadata": {},
   "outputs": [],
   "source": []
  }
 ],
 "metadata": {
  "kernelspec": {
   "display_name": "Python 3 (ipykernel)",
   "language": "python",
   "name": "python3"
  },
  "language_info": {
   "codemirror_mode": {
    "name": "ipython",
    "version": 3
   },
   "file_extension": ".py",
   "mimetype": "text/x-python",
   "name": "python",
   "nbconvert_exporter": "python",
   "pygments_lexer": "ipython3",
   "version": "3.9.0"
  }
 },
 "nbformat": 4,
 "nbformat_minor": 5
}
